{
 "metadata": {
  "language_info": {
   "codemirror_mode": {
    "name": "ipython",
    "version": 3
   },
   "file_extension": ".py",
   "mimetype": "text/x-python",
   "name": "python",
   "nbconvert_exporter": "python",
   "pygments_lexer": "ipython3",
   "version": "3.6.9-final"
  },
  "orig_nbformat": 2,
  "kernelspec": {
   "name": "python36964bitdatasciencepipenv2c7dea0d56924e4c886c5b251d07c09b",
   "display_name": "Python 3.6.9 64-bit ('data-science': pipenv)",
   "language": "python"
  }
 },
 "nbformat": 4,
 "nbformat_minor": 2,
 "cells": [
  {
   "source": [
    "# Predict Salary"
   ],
   "cell_type": "markdown",
   "metadata": {}
  },
  {
   "cell_type": "code",
   "execution_count": 7,
   "metadata": {},
   "outputs": [],
   "source": [
    "import glassdoor_scraper as gs\n",
    "import pandas as pd\n",
    "import requests\n",
    "import io\n",
    "\n",
    "#path=\"/home/chris/Documents/Code/data-science/cursos/predict-salary/chromedriver\"\n",
    "\n",
    "#df=gs.get_jobs('data scientist', 15, False, path, 15)\n",
    "url=\"https://raw.githubusercontent.com/PlayingNumbers/ds_salary_proj/master/glassdoor_jobs.csv\"\n",
    "s=requests.get(url).content\n",
    "df=pd.read_csv(io.StringIO(s.decode('utf-8')))\n",
    "#df.to_csv('glassdoor_jobs.csv',index=False)"
   ]
  },
  {
   "source": [
    "## Data Cleaning"
   ],
   "cell_type": "markdown",
   "metadata": {}
  },
  {
   "cell_type": "code",
   "execution_count": 10,
   "metadata": {},
   "outputs": [],
   "source": [
    "df=pd.read_csv('glassdoor_jobs.csv')\n",
    "df.describe()"
   ]
  },
  {
   "source": [
    "### Salary Parsing"
   ],
   "cell_type": "markdown",
   "metadata": {}
  },
  {
   "cell_type": "code",
   "execution_count": 15,
   "metadata": {},
   "outputs": [
    {
     "output_type": "execute_result",
     "data": {
      "text/plain": [
       "       Unnamed: 0      Rating      Founded\n",
       "count  742.000000  742.000000   742.000000\n",
       "mean   469.129380    3.618868  1837.154987\n",
       "std    279.793117    0.801210   497.183763\n",
       "min      0.000000   -1.000000    -1.000000\n",
       "25%    221.500000    3.300000  1939.000000\n",
       "50%    472.500000    3.700000  1988.000000\n",
       "75%    707.750000    4.000000  2007.000000\n",
       "max    955.000000    5.000000  2019.000000"
      ],
      "text/html": "<div>\n<style scoped>\n    .dataframe tbody tr th:only-of-type {\n        vertical-align: middle;\n    }\n\n    .dataframe tbody tr th {\n        vertical-align: top;\n    }\n\n    .dataframe thead th {\n        text-align: right;\n    }\n</style>\n<table border=\"1\" class=\"dataframe\">\n  <thead>\n    <tr style=\"text-align: right;\">\n      <th></th>\n      <th>Unnamed: 0</th>\n      <th>Rating</th>\n      <th>Founded</th>\n    </tr>\n  </thead>\n  <tbody>\n    <tr>\n      <th>count</th>\n      <td>742.000000</td>\n      <td>742.000000</td>\n      <td>742.000000</td>\n    </tr>\n    <tr>\n      <th>mean</th>\n      <td>469.129380</td>\n      <td>3.618868</td>\n      <td>1837.154987</td>\n    </tr>\n    <tr>\n      <th>std</th>\n      <td>279.793117</td>\n      <td>0.801210</td>\n      <td>497.183763</td>\n    </tr>\n    <tr>\n      <th>min</th>\n      <td>0.000000</td>\n      <td>-1.000000</td>\n      <td>-1.000000</td>\n    </tr>\n    <tr>\n      <th>25%</th>\n      <td>221.500000</td>\n      <td>3.300000</td>\n      <td>1939.000000</td>\n    </tr>\n    <tr>\n      <th>50%</th>\n      <td>472.500000</td>\n      <td>3.700000</td>\n      <td>1988.000000</td>\n    </tr>\n    <tr>\n      <th>75%</th>\n      <td>707.750000</td>\n      <td>4.000000</td>\n      <td>2007.000000</td>\n    </tr>\n    <tr>\n      <th>max</th>\n      <td>955.000000</td>\n      <td>5.000000</td>\n      <td>2019.000000</td>\n    </tr>\n  </tbody>\n</table>\n</div>"
     },
     "metadata": {},
     "execution_count": 15
    }
   ],
   "source": [
    "df=df[df['Salary Estimate']!='-1']\n",
    "df.describe()"
   ]
  },
  {
   "cell_type": "code",
   "execution_count": 28,
   "metadata": {},
   "outputs": [
    {
     "output_type": "execute_result",
     "data": {
      "text/plain": [
       "count    742.000000\n",
       "mean       0.032345\n",
       "std        0.177034\n",
       "min        0.000000\n",
       "25%        0.000000\n",
       "50%        0.000000\n",
       "75%        0.000000\n",
       "max        1.000000\n",
       "Name: hourly, dtype: float64"
      ]
     },
     "metadata": {},
     "execution_count": 28
    }
   ],
   "source": [
    "df['hourly']=df['Salary Estimate'].apply(lambda x: 1 if 'per hour' in x.lower() else 0)\n",
    "df['employer_provided']=df['Salary Estimate'].apply(lambda x: 1 if 'employer provided salary:' in x.lower() else 0)\n"
   ]
  },
  {
   "cell_type": "code",
   "execution_count": 43,
   "metadata": {},
   "outputs": [
    {
     "output_type": "execute_result",
     "data": {
      "text/plain": [
       "   Unnamed: 0                  Job Title              Salary Estimate  \\\n",
       "0           0             Data Scientist   $53K-$91K (Glassdoor est.)   \n",
       "1           1  Healthcare Data Scientist  $63K-$112K (Glassdoor est.)   \n",
       "2           2             Data Scientist   $80K-$90K (Glassdoor est.)   \n",
       "3           3             Data Scientist   $56K-$97K (Glassdoor est.)   \n",
       "4           4             Data Scientist  $86K-$143K (Glassdoor est.)   \n",
       "\n",
       "                                     Job Description  Rating  \\\n",
       "0  Data Scientist\\nLocation: Albuquerque, NM\\nEdu...     3.8   \n",
       "1  What You Will Do:\\n\\nI. General Summary\\n\\nThe...     3.4   \n",
       "2  KnowBe4, Inc. is a high growth information sec...     4.8   \n",
       "3  *Organization and Job ID**\\nJob ID: 310709\\n\\n...     3.8   \n",
       "4  Data Scientist\\nAffinity Solutions / Marketing...     2.9   \n",
       "\n",
       "                                 Company Name         Location  \\\n",
       "0                      Tecolote Research\\n3.8  Albuquerque, NM   \n",
       "1  University of Maryland Medical System\\n3.4    Linthicum, MD   \n",
       "2                                KnowBe4\\n4.8   Clearwater, FL   \n",
       "3                                   PNNL\\n3.8     Richland, WA   \n",
       "4                     Affinity Solutions\\n2.9     New York, NY   \n",
       "\n",
       "     Headquarters                    Size  Founded   Type of ownership  \\\n",
       "0      Goleta, CA   501 to 1000 employees     1973   Company - Private   \n",
       "1   Baltimore, MD        10000+ employees     1984  Other Organization   \n",
       "2  Clearwater, FL   501 to 1000 employees     2010   Company - Private   \n",
       "3    Richland, WA  1001 to 5000 employees     1965          Government   \n",
       "4    New York, NY     51 to 200 employees     1998   Company - Private   \n",
       "\n",
       "                           Industry                        Sector  \\\n",
       "0               Aerospace & Defense           Aerospace & Defense   \n",
       "1  Health Care Services & Hospitals                   Health Care   \n",
       "2                 Security Services             Business Services   \n",
       "3                            Energy  Oil, Gas, Energy & Utilities   \n",
       "4           Advertising & Marketing             Business Services   \n",
       "\n",
       "                            Revenue  \\\n",
       "0         $50 to $100 million (USD)   \n",
       "1            $2 to $5 billion (USD)   \n",
       "2        $100 to $500 million (USD)   \n",
       "3  $500 million to $1 billion (USD)   \n",
       "4          Unknown / Non-Applicable   \n",
       "\n",
       "                                         Competitors  hourly  \\\n",
       "0                                                 -1       0   \n",
       "1                                                 -1       0   \n",
       "2                                                 -1       0   \n",
       "3  Oak Ridge National Laboratory, National Renewa...       0   \n",
       "4               Commerce Signals, Cardlytics, Yodlee       0   \n",
       "\n",
       "   employer_provided  min_salary  max_salary  avg_salary  \n",
       "0                  0          53          91        72.0  \n",
       "1                  0          63         112        87.5  \n",
       "2                  0          80          90        85.0  \n",
       "3                  0          56          97        76.5  \n",
       "4                  0          86         143       114.5  "
      ],
      "text/html": "<div>\n<style scoped>\n    .dataframe tbody tr th:only-of-type {\n        vertical-align: middle;\n    }\n\n    .dataframe tbody tr th {\n        vertical-align: top;\n    }\n\n    .dataframe thead th {\n        text-align: right;\n    }\n</style>\n<table border=\"1\" class=\"dataframe\">\n  <thead>\n    <tr style=\"text-align: right;\">\n      <th></th>\n      <th>Unnamed: 0</th>\n      <th>Job Title</th>\n      <th>Salary Estimate</th>\n      <th>Job Description</th>\n      <th>Rating</th>\n      <th>Company Name</th>\n      <th>Location</th>\n      <th>Headquarters</th>\n      <th>Size</th>\n      <th>Founded</th>\n      <th>Type of ownership</th>\n      <th>Industry</th>\n      <th>Sector</th>\n      <th>Revenue</th>\n      <th>Competitors</th>\n      <th>hourly</th>\n      <th>employer_provided</th>\n      <th>min_salary</th>\n      <th>max_salary</th>\n      <th>avg_salary</th>\n    </tr>\n  </thead>\n  <tbody>\n    <tr>\n      <th>0</th>\n      <td>0</td>\n      <td>Data Scientist</td>\n      <td>$53K-$91K (Glassdoor est.)</td>\n      <td>Data Scientist\\nLocation: Albuquerque, NM\\nEdu...</td>\n      <td>3.8</td>\n      <td>Tecolote Research\\n3.8</td>\n      <td>Albuquerque, NM</td>\n      <td>Goleta, CA</td>\n      <td>501 to 1000 employees</td>\n      <td>1973</td>\n      <td>Company - Private</td>\n      <td>Aerospace &amp; Defense</td>\n      <td>Aerospace &amp; Defense</td>\n      <td>$50 to $100 million (USD)</td>\n      <td>-1</td>\n      <td>0</td>\n      <td>0</td>\n      <td>53</td>\n      <td>91</td>\n      <td>72.0</td>\n    </tr>\n    <tr>\n      <th>1</th>\n      <td>1</td>\n      <td>Healthcare Data Scientist</td>\n      <td>$63K-$112K (Glassdoor est.)</td>\n      <td>What You Will Do:\\n\\nI. General Summary\\n\\nThe...</td>\n      <td>3.4</td>\n      <td>University of Maryland Medical System\\n3.4</td>\n      <td>Linthicum, MD</td>\n      <td>Baltimore, MD</td>\n      <td>10000+ employees</td>\n      <td>1984</td>\n      <td>Other Organization</td>\n      <td>Health Care Services &amp; Hospitals</td>\n      <td>Health Care</td>\n      <td>$2 to $5 billion (USD)</td>\n      <td>-1</td>\n      <td>0</td>\n      <td>0</td>\n      <td>63</td>\n      <td>112</td>\n      <td>87.5</td>\n    </tr>\n    <tr>\n      <th>2</th>\n      <td>2</td>\n      <td>Data Scientist</td>\n      <td>$80K-$90K (Glassdoor est.)</td>\n      <td>KnowBe4, Inc. is a high growth information sec...</td>\n      <td>4.8</td>\n      <td>KnowBe4\\n4.8</td>\n      <td>Clearwater, FL</td>\n      <td>Clearwater, FL</td>\n      <td>501 to 1000 employees</td>\n      <td>2010</td>\n      <td>Company - Private</td>\n      <td>Security Services</td>\n      <td>Business Services</td>\n      <td>$100 to $500 million (USD)</td>\n      <td>-1</td>\n      <td>0</td>\n      <td>0</td>\n      <td>80</td>\n      <td>90</td>\n      <td>85.0</td>\n    </tr>\n    <tr>\n      <th>3</th>\n      <td>3</td>\n      <td>Data Scientist</td>\n      <td>$56K-$97K (Glassdoor est.)</td>\n      <td>*Organization and Job ID**\\nJob ID: 310709\\n\\n...</td>\n      <td>3.8</td>\n      <td>PNNL\\n3.8</td>\n      <td>Richland, WA</td>\n      <td>Richland, WA</td>\n      <td>1001 to 5000 employees</td>\n      <td>1965</td>\n      <td>Government</td>\n      <td>Energy</td>\n      <td>Oil, Gas, Energy &amp; Utilities</td>\n      <td>$500 million to $1 billion (USD)</td>\n      <td>Oak Ridge National Laboratory, National Renewa...</td>\n      <td>0</td>\n      <td>0</td>\n      <td>56</td>\n      <td>97</td>\n      <td>76.5</td>\n    </tr>\n    <tr>\n      <th>4</th>\n      <td>4</td>\n      <td>Data Scientist</td>\n      <td>$86K-$143K (Glassdoor est.)</td>\n      <td>Data Scientist\\nAffinity Solutions / Marketing...</td>\n      <td>2.9</td>\n      <td>Affinity Solutions\\n2.9</td>\n      <td>New York, NY</td>\n      <td>New York, NY</td>\n      <td>51 to 200 employees</td>\n      <td>1998</td>\n      <td>Company - Private</td>\n      <td>Advertising &amp; Marketing</td>\n      <td>Business Services</td>\n      <td>Unknown / Non-Applicable</td>\n      <td>Commerce Signals, Cardlytics, Yodlee</td>\n      <td>0</td>\n      <td>0</td>\n      <td>86</td>\n      <td>143</td>\n      <td>114.5</td>\n    </tr>\n  </tbody>\n</table>\n</div>"
     },
     "metadata": {},
     "execution_count": 43
    }
   ],
   "source": [
    "salary=df['Salary Estimate'].apply(lambda x: x.split('(')[0])\n",
    "minusKd=salary.apply(lambda x: x.replace('K','').replace('$',''))\n",
    "minHr=minusKd.apply(lambda x: x.lower().replace('per hour','').replace('employer provided salary:',''))\n",
    "minHr[:50]\n",
    "df['min_salary']=minHr.apply(lambda x: int(x.split('-')[0]))\n",
    "df['max_salary']=minHr.apply(lambda x: int(x.split('-')[1]))\n",
    "df['avg_salary']=(df.min_salary+df.max_salary)/2\n",
    "df.head()"
   ]
  },
  {
   "source": [
    "### COmpany name text only"
   ],
   "cell_type": "markdown",
   "metadata": {}
  },
  {
   "cell_type": "code",
   "execution_count": 45,
   "metadata": {},
   "outputs": [
    {
     "output_type": "execute_result",
     "data": {
      "text/plain": [
       "0                          Tecolote Research\n",
       "1      University of Maryland Medical System\n",
       "2                                    KnowBe4\n",
       "3                                       PNNL\n",
       "4                         Affinity Solutions\n",
       "                       ...                  \n",
       "950                                      GSK\n",
       "951                               Eventbrite\n",
       "952           Software Engineering Institute\n",
       "953                             Numeric, LLC\n",
       "955             Riverside Research Institute\n",
       "Name: company_txt, Length: 742, dtype: object"
      ]
     },
     "metadata": {},
     "execution_count": 45
    }
   ],
   "source": [
    "df['company_txt']=df.apply(lambda x: x['Company Name'] if x['Rating']<0 else x['Company Name'][:-4], axis=1)\n",
    "df['company_txt']"
   ]
  },
  {
   "source": [
    "### State field"
   ],
   "cell_type": "markdown",
   "metadata": {}
  },
  {
   "cell_type": "code",
   "execution_count": 46,
   "metadata": {},
   "outputs": [
    {
     "output_type": "execute_result",
     "data": {
      "text/plain": [
       "0       NM\n",
       "1       MD\n",
       "2       FL\n",
       "3       WA\n",
       "4       NY\n",
       "      ... \n",
       "950     MA\n",
       "951     TN\n",
       "952     PA\n",
       "953     PA\n",
       "955     OH\n",
       "Name: job_state, Length: 742, dtype: object"
      ]
     },
     "metadata": {},
     "execution_count": 46
    }
   ],
   "source": [
    "df['job_state']=df['Location'].apply(lambda x: x.split(',')[1])\n",
    "df['job_state']"
   ]
  },
  {
   "cell_type": "code",
   "execution_count": 49,
   "metadata": {},
   "outputs": [
    {
     "output_type": "execute_result",
     "data": {
      "text/plain": [
       "0      0\n",
       "1      0\n",
       "2      1\n",
       "3      1\n",
       "4      1\n",
       "      ..\n",
       "950    0\n",
       "951    0\n",
       "952    1\n",
       "953    0\n",
       "955    0\n",
       "Name: same_state, Length: 742, dtype: int64"
      ]
     },
     "metadata": {},
     "execution_count": 49
    }
   ],
   "source": [
    "df['same_state']=df.apply(lambda x: 1 if x.Location==x.Headquarters else 0, axis=1)\n",
    "df.same_state"
   ]
  },
  {
   "source": [
    "### Age of company"
   ],
   "cell_type": "markdown",
   "metadata": {}
  },
  {
   "cell_type": "code",
   "execution_count": 50,
   "metadata": {},
   "outputs": [
    {
     "output_type": "execute_result",
     "data": {
      "text/plain": [
       "0       48\n",
       "1       37\n",
       "2       11\n",
       "3       56\n",
       "4       23\n",
       "      ... \n",
       "950    191\n",
       "951     15\n",
       "952     37\n",
       "953     -1\n",
       "955     54\n",
       "Name: age, Length: 742, dtype: int64"
      ]
     },
     "metadata": {},
     "execution_count": 50
    }
   ],
   "source": [
    "df['age']=df.Founded.apply(lambda x: x if x<1 else 2021 - x)\n",
    "df.age"
   ]
  },
  {
   "source": [
    "### Job Description"
   ],
   "cell_type": "markdown",
   "metadata": {}
  },
  {
   "cell_type": "code",
   "execution_count": 55,
   "metadata": {},
   "outputs": [
    {
     "output_type": "execute_result",
     "data": {
      "text/plain": [
       "0    566\n",
       "1    176\n",
       "Name: aws_yn, dtype: int64"
      ]
     },
     "metadata": {},
     "execution_count": 55
    }
   ],
   "source": [
    "df['python_yn']=df['Job Description'].apply(lambda x: 1 if 'python' in x.lower() else 0)\n",
    "df['R_yn']=df['Job Description'].apply(lambda x: 1 if 'r studio' in x.lower() or 'r-studio' in x.lower() else 0)\n",
    "df['spark_yn']=df['Job Description'].apply(lambda x: 1 if 'spark' in x.lower() else 0)\n",
    "df['aws_yn']=df['Job Description'].apply(lambda x: 1 if 'aws' in x.lower() else 0)\n",
    "df.aws_yn.value_counts()\n",
    "df['excel_yn']=df['Job Description'].apply(lambda x: 1 if 'excel' in x.lower() else 0)"
   ]
  },
  {
   "cell_type": "code",
   "execution_count": 59,
   "metadata": {},
   "outputs": [
    {
     "output_type": "execute_result",
     "data": {
      "text/plain": [
       "                                             Job Title  \\\n",
       "0                                       Data Scientist   \n",
       "1                            Healthcare Data Scientist   \n",
       "2                                       Data Scientist   \n",
       "3                                       Data Scientist   \n",
       "4                                       Data Scientist   \n",
       "..                                                 ...   \n",
       "950           Sr Scientist, Immuno-Oncology - Oncology   \n",
       "951                               Senior Data Engineer   \n",
       "952  Project Scientist - Auton Lab, Robotics Institute   \n",
       "953                               Data Science Manager   \n",
       "955          Research Scientist – Security and Privacy   \n",
       "\n",
       "                 Salary Estimate  \\\n",
       "0     $53K-$91K (Glassdoor est.)   \n",
       "1    $63K-$112K (Glassdoor est.)   \n",
       "2     $80K-$90K (Glassdoor est.)   \n",
       "3     $56K-$97K (Glassdoor est.)   \n",
       "4    $86K-$143K (Glassdoor est.)   \n",
       "..                           ...   \n",
       "950  $58K-$111K (Glassdoor est.)   \n",
       "951  $72K-$133K (Glassdoor est.)   \n",
       "952   $56K-$91K (Glassdoor est.)   \n",
       "953  $95K-$160K (Glassdoor est.)   \n",
       "955  $61K-$126K (Glassdoor est.)   \n",
       "\n",
       "                                       Job Description  Rating  \\\n",
       "0    Data Scientist\\nLocation: Albuquerque, NM\\nEdu...     3.8   \n",
       "1    What You Will Do:\\n\\nI. General Summary\\n\\nThe...     3.4   \n",
       "2    KnowBe4, Inc. is a high growth information sec...     4.8   \n",
       "3    *Organization and Job ID**\\nJob ID: 310709\\n\\n...     3.8   \n",
       "4    Data Scientist\\nAffinity Solutions / Marketing...     2.9   \n",
       "..                                                 ...     ...   \n",
       "950  Site Name: USA - Massachusetts - Cambridge\\nPo...     3.9   \n",
       "951  THE CHALLENGE\\nEventbrite has a world-class da...     4.4   \n",
       "952  The Auton Lab at Carnegie Mellon University is...     2.6   \n",
       "953  Data Science ManagerResponsibilities:\\n\\nOvers...     3.2   \n",
       "955  Returning Candidate? Log back in to the Career...     3.6   \n",
       "\n",
       "                                   Company Name         Location  \\\n",
       "0                        Tecolote Research\\n3.8  Albuquerque, NM   \n",
       "1    University of Maryland Medical System\\n3.4    Linthicum, MD   \n",
       "2                                  KnowBe4\\n4.8   Clearwater, FL   \n",
       "3                                     PNNL\\n3.8     Richland, WA   \n",
       "4                       Affinity Solutions\\n2.9     New York, NY   \n",
       "..                                          ...              ...   \n",
       "950                                    GSK\\n3.9    Cambridge, MA   \n",
       "951                             Eventbrite\\n4.4    Nashville, TN   \n",
       "952         Software Engineering Institute\\n2.6   Pittsburgh, PA   \n",
       "953                           Numeric, LLC\\n3.2    Allentown, PA   \n",
       "955           Riverside Research Institute\\n3.6  Beavercreek, OH   \n",
       "\n",
       "                  Headquarters                    Size  Founded  \\\n",
       "0                   Goleta, CA   501 to 1000 employees     1973   \n",
       "1                Baltimore, MD        10000+ employees     1984   \n",
       "2               Clearwater, FL   501 to 1000 employees     2010   \n",
       "3                 Richland, WA  1001 to 5000 employees     1965   \n",
       "4                 New York, NY     51 to 200 employees     1998   \n",
       "..                         ...                     ...      ...   \n",
       "950  Brentford, United Kingdom        10000+ employees     1830   \n",
       "951          San Francisco, CA  1001 to 5000 employees     2006   \n",
       "952             Pittsburgh, PA   501 to 1000 employees     1984   \n",
       "953            Chadds Ford, PA       1 to 50 employees       -1   \n",
       "955              Arlington, VA   501 to 1000 employees     1967   \n",
       "\n",
       "          Type of ownership  ... max_salary avg_salary  \\\n",
       "0         Company - Private  ...         91       72.0   \n",
       "1        Other Organization  ...        112       87.5   \n",
       "2         Company - Private  ...         90       85.0   \n",
       "3                Government  ...         97       76.5   \n",
       "4         Company - Private  ...        143      114.5   \n",
       "..                      ...  ...        ...        ...   \n",
       "950        Company - Public  ...        111       84.5   \n",
       "951        Company - Public  ...        133      102.5   \n",
       "952    College / University  ...         91       73.5   \n",
       "953       Company - Private  ...        160      127.5   \n",
       "955  Nonprofit Organization  ...        126       93.5   \n",
       "\n",
       "                               company_txt job_state  same_state  age  \\\n",
       "0                        Tecolote Research        NM           0   48   \n",
       "1    University of Maryland Medical System        MD           0   37   \n",
       "2                                  KnowBe4        FL           1   11   \n",
       "3                                     PNNL        WA           1   56   \n",
       "4                       Affinity Solutions        NY           1   23   \n",
       "..                                     ...       ...         ...  ...   \n",
       "950                                    GSK        MA           0  191   \n",
       "951                             Eventbrite        TN           0   15   \n",
       "952         Software Engineering Institute        PA           1   37   \n",
       "953                           Numeric, LLC        PA           0   -1   \n",
       "955           Riverside Research Institute        OH           0   54   \n",
       "\n",
       "     python_yn  R_yn  spark_yn aws_yn  \n",
       "0            1     0         0      0  \n",
       "1            1     0         0      0  \n",
       "2            1     0         1      0  \n",
       "3            1     0         0      0  \n",
       "4            1     0         0      0  \n",
       "..         ...   ...       ...    ...  \n",
       "950          0     0         0      1  \n",
       "951          1     0         1      1  \n",
       "952          0     0         0      0  \n",
       "953          0     0         0      0  \n",
       "955          1     0         0      0  \n",
       "\n",
       "[742 rows x 27 columns]"
      ],
      "text/html": "<div>\n<style scoped>\n    .dataframe tbody tr th:only-of-type {\n        vertical-align: middle;\n    }\n\n    .dataframe tbody tr th {\n        vertical-align: top;\n    }\n\n    .dataframe thead th {\n        text-align: right;\n    }\n</style>\n<table border=\"1\" class=\"dataframe\">\n  <thead>\n    <tr style=\"text-align: right;\">\n      <th></th>\n      <th>Job Title</th>\n      <th>Salary Estimate</th>\n      <th>Job Description</th>\n      <th>Rating</th>\n      <th>Company Name</th>\n      <th>Location</th>\n      <th>Headquarters</th>\n      <th>Size</th>\n      <th>Founded</th>\n      <th>Type of ownership</th>\n      <th>...</th>\n      <th>max_salary</th>\n      <th>avg_salary</th>\n      <th>company_txt</th>\n      <th>job_state</th>\n      <th>same_state</th>\n      <th>age</th>\n      <th>python_yn</th>\n      <th>R_yn</th>\n      <th>spark_yn</th>\n      <th>aws_yn</th>\n    </tr>\n  </thead>\n  <tbody>\n    <tr>\n      <th>0</th>\n      <td>Data Scientist</td>\n      <td>$53K-$91K (Glassdoor est.)</td>\n      <td>Data Scientist\\nLocation: Albuquerque, NM\\nEdu...</td>\n      <td>3.8</td>\n      <td>Tecolote Research\\n3.8</td>\n      <td>Albuquerque, NM</td>\n      <td>Goleta, CA</td>\n      <td>501 to 1000 employees</td>\n      <td>1973</td>\n      <td>Company - Private</td>\n      <td>...</td>\n      <td>91</td>\n      <td>72.0</td>\n      <td>Tecolote Research</td>\n      <td>NM</td>\n      <td>0</td>\n      <td>48</td>\n      <td>1</td>\n      <td>0</td>\n      <td>0</td>\n      <td>0</td>\n    </tr>\n    <tr>\n      <th>1</th>\n      <td>Healthcare Data Scientist</td>\n      <td>$63K-$112K (Glassdoor est.)</td>\n      <td>What You Will Do:\\n\\nI. General Summary\\n\\nThe...</td>\n      <td>3.4</td>\n      <td>University of Maryland Medical System\\n3.4</td>\n      <td>Linthicum, MD</td>\n      <td>Baltimore, MD</td>\n      <td>10000+ employees</td>\n      <td>1984</td>\n      <td>Other Organization</td>\n      <td>...</td>\n      <td>112</td>\n      <td>87.5</td>\n      <td>University of Maryland Medical System</td>\n      <td>MD</td>\n      <td>0</td>\n      <td>37</td>\n      <td>1</td>\n      <td>0</td>\n      <td>0</td>\n      <td>0</td>\n    </tr>\n    <tr>\n      <th>2</th>\n      <td>Data Scientist</td>\n      <td>$80K-$90K (Glassdoor est.)</td>\n      <td>KnowBe4, Inc. is a high growth information sec...</td>\n      <td>4.8</td>\n      <td>KnowBe4\\n4.8</td>\n      <td>Clearwater, FL</td>\n      <td>Clearwater, FL</td>\n      <td>501 to 1000 employees</td>\n      <td>2010</td>\n      <td>Company - Private</td>\n      <td>...</td>\n      <td>90</td>\n      <td>85.0</td>\n      <td>KnowBe4</td>\n      <td>FL</td>\n      <td>1</td>\n      <td>11</td>\n      <td>1</td>\n      <td>0</td>\n      <td>1</td>\n      <td>0</td>\n    </tr>\n    <tr>\n      <th>3</th>\n      <td>Data Scientist</td>\n      <td>$56K-$97K (Glassdoor est.)</td>\n      <td>*Organization and Job ID**\\nJob ID: 310709\\n\\n...</td>\n      <td>3.8</td>\n      <td>PNNL\\n3.8</td>\n      <td>Richland, WA</td>\n      <td>Richland, WA</td>\n      <td>1001 to 5000 employees</td>\n      <td>1965</td>\n      <td>Government</td>\n      <td>...</td>\n      <td>97</td>\n      <td>76.5</td>\n      <td>PNNL</td>\n      <td>WA</td>\n      <td>1</td>\n      <td>56</td>\n      <td>1</td>\n      <td>0</td>\n      <td>0</td>\n      <td>0</td>\n    </tr>\n    <tr>\n      <th>4</th>\n      <td>Data Scientist</td>\n      <td>$86K-$143K (Glassdoor est.)</td>\n      <td>Data Scientist\\nAffinity Solutions / Marketing...</td>\n      <td>2.9</td>\n      <td>Affinity Solutions\\n2.9</td>\n      <td>New York, NY</td>\n      <td>New York, NY</td>\n      <td>51 to 200 employees</td>\n      <td>1998</td>\n      <td>Company - Private</td>\n      <td>...</td>\n      <td>143</td>\n      <td>114.5</td>\n      <td>Affinity Solutions</td>\n      <td>NY</td>\n      <td>1</td>\n      <td>23</td>\n      <td>1</td>\n      <td>0</td>\n      <td>0</td>\n      <td>0</td>\n    </tr>\n    <tr>\n      <th>...</th>\n      <td>...</td>\n      <td>...</td>\n      <td>...</td>\n      <td>...</td>\n      <td>...</td>\n      <td>...</td>\n      <td>...</td>\n      <td>...</td>\n      <td>...</td>\n      <td>...</td>\n      <td>...</td>\n      <td>...</td>\n      <td>...</td>\n      <td>...</td>\n      <td>...</td>\n      <td>...</td>\n      <td>...</td>\n      <td>...</td>\n      <td>...</td>\n      <td>...</td>\n      <td>...</td>\n    </tr>\n    <tr>\n      <th>950</th>\n      <td>Sr Scientist, Immuno-Oncology - Oncology</td>\n      <td>$58K-$111K (Glassdoor est.)</td>\n      <td>Site Name: USA - Massachusetts - Cambridge\\nPo...</td>\n      <td>3.9</td>\n      <td>GSK\\n3.9</td>\n      <td>Cambridge, MA</td>\n      <td>Brentford, United Kingdom</td>\n      <td>10000+ employees</td>\n      <td>1830</td>\n      <td>Company - Public</td>\n      <td>...</td>\n      <td>111</td>\n      <td>84.5</td>\n      <td>GSK</td>\n      <td>MA</td>\n      <td>0</td>\n      <td>191</td>\n      <td>0</td>\n      <td>0</td>\n      <td>0</td>\n      <td>1</td>\n    </tr>\n    <tr>\n      <th>951</th>\n      <td>Senior Data Engineer</td>\n      <td>$72K-$133K (Glassdoor est.)</td>\n      <td>THE CHALLENGE\\nEventbrite has a world-class da...</td>\n      <td>4.4</td>\n      <td>Eventbrite\\n4.4</td>\n      <td>Nashville, TN</td>\n      <td>San Francisco, CA</td>\n      <td>1001 to 5000 employees</td>\n      <td>2006</td>\n      <td>Company - Public</td>\n      <td>...</td>\n      <td>133</td>\n      <td>102.5</td>\n      <td>Eventbrite</td>\n      <td>TN</td>\n      <td>0</td>\n      <td>15</td>\n      <td>1</td>\n      <td>0</td>\n      <td>1</td>\n      <td>1</td>\n    </tr>\n    <tr>\n      <th>952</th>\n      <td>Project Scientist - Auton Lab, Robotics Institute</td>\n      <td>$56K-$91K (Glassdoor est.)</td>\n      <td>The Auton Lab at Carnegie Mellon University is...</td>\n      <td>2.6</td>\n      <td>Software Engineering Institute\\n2.6</td>\n      <td>Pittsburgh, PA</td>\n      <td>Pittsburgh, PA</td>\n      <td>501 to 1000 employees</td>\n      <td>1984</td>\n      <td>College / University</td>\n      <td>...</td>\n      <td>91</td>\n      <td>73.5</td>\n      <td>Software Engineering Institute</td>\n      <td>PA</td>\n      <td>1</td>\n      <td>37</td>\n      <td>0</td>\n      <td>0</td>\n      <td>0</td>\n      <td>0</td>\n    </tr>\n    <tr>\n      <th>953</th>\n      <td>Data Science Manager</td>\n      <td>$95K-$160K (Glassdoor est.)</td>\n      <td>Data Science ManagerResponsibilities:\\n\\nOvers...</td>\n      <td>3.2</td>\n      <td>Numeric, LLC\\n3.2</td>\n      <td>Allentown, PA</td>\n      <td>Chadds Ford, PA</td>\n      <td>1 to 50 employees</td>\n      <td>-1</td>\n      <td>Company - Private</td>\n      <td>...</td>\n      <td>160</td>\n      <td>127.5</td>\n      <td>Numeric, LLC</td>\n      <td>PA</td>\n      <td>0</td>\n      <td>-1</td>\n      <td>0</td>\n      <td>0</td>\n      <td>0</td>\n      <td>0</td>\n    </tr>\n    <tr>\n      <th>955</th>\n      <td>Research Scientist – Security and Privacy</td>\n      <td>$61K-$126K (Glassdoor est.)</td>\n      <td>Returning Candidate? Log back in to the Career...</td>\n      <td>3.6</td>\n      <td>Riverside Research Institute\\n3.6</td>\n      <td>Beavercreek, OH</td>\n      <td>Arlington, VA</td>\n      <td>501 to 1000 employees</td>\n      <td>1967</td>\n      <td>Nonprofit Organization</td>\n      <td>...</td>\n      <td>126</td>\n      <td>93.5</td>\n      <td>Riverside Research Institute</td>\n      <td>OH</td>\n      <td>0</td>\n      <td>54</td>\n      <td>1</td>\n      <td>0</td>\n      <td>0</td>\n      <td>0</td>\n    </tr>\n  </tbody>\n</table>\n<p>742 rows × 27 columns</p>\n</div>"
     },
     "metadata": {},
     "execution_count": 59
    }
   ],
   "source": [
    "df_out =df.drop(['Unnamed: 0'], axis=1)\n",
    "df_out"
   ]
  },
  {
   "source": [
    "### Export Data cleaned"
   ],
   "cell_type": "markdown",
   "metadata": {}
  },
  {
   "cell_type": "code",
   "execution_count": 60,
   "metadata": {},
   "outputs": [],
   "source": [
    "df_out.to_csv('salary_data_cleaned.csv', index=False)"
   ]
  },
  {
   "cell_type": "code",
   "execution_count": 61,
   "metadata": {},
   "outputs": [
    {
     "output_type": "execute_result",
     "data": {
      "text/plain": [
       "                                             Job Title  \\\n",
       "0                                       Data Scientist   \n",
       "1                            Healthcare Data Scientist   \n",
       "2                                       Data Scientist   \n",
       "3                                       Data Scientist   \n",
       "4                                       Data Scientist   \n",
       "..                                                 ...   \n",
       "737           Sr Scientist, Immuno-Oncology - Oncology   \n",
       "738                               Senior Data Engineer   \n",
       "739  Project Scientist - Auton Lab, Robotics Institute   \n",
       "740                               Data Science Manager   \n",
       "741          Research Scientist – Security and Privacy   \n",
       "\n",
       "                 Salary Estimate  \\\n",
       "0     $53K-$91K (Glassdoor est.)   \n",
       "1    $63K-$112K (Glassdoor est.)   \n",
       "2     $80K-$90K (Glassdoor est.)   \n",
       "3     $56K-$97K (Glassdoor est.)   \n",
       "4    $86K-$143K (Glassdoor est.)   \n",
       "..                           ...   \n",
       "737  $58K-$111K (Glassdoor est.)   \n",
       "738  $72K-$133K (Glassdoor est.)   \n",
       "739   $56K-$91K (Glassdoor est.)   \n",
       "740  $95K-$160K (Glassdoor est.)   \n",
       "741  $61K-$126K (Glassdoor est.)   \n",
       "\n",
       "                                       Job Description  Rating  \\\n",
       "0    Data Scientist\\nLocation: Albuquerque, NM\\nEdu...     3.8   \n",
       "1    What You Will Do:\\n\\nI. General Summary\\n\\nThe...     3.4   \n",
       "2    KnowBe4, Inc. is a high growth information sec...     4.8   \n",
       "3    *Organization and Job ID**\\nJob ID: 310709\\n\\n...     3.8   \n",
       "4    Data Scientist\\nAffinity Solutions / Marketing...     2.9   \n",
       "..                                                 ...     ...   \n",
       "737  Site Name: USA - Massachusetts - Cambridge\\nPo...     3.9   \n",
       "738  THE CHALLENGE\\nEventbrite has a world-class da...     4.4   \n",
       "739  The Auton Lab at Carnegie Mellon University is...     2.6   \n",
       "740  Data Science ManagerResponsibilities:\\n\\nOvers...     3.2   \n",
       "741  Returning Candidate? Log back in to the Career...     3.6   \n",
       "\n",
       "                                   Company Name         Location  \\\n",
       "0                        Tecolote Research\\n3.8  Albuquerque, NM   \n",
       "1    University of Maryland Medical System\\n3.4    Linthicum, MD   \n",
       "2                                  KnowBe4\\n4.8   Clearwater, FL   \n",
       "3                                     PNNL\\n3.8     Richland, WA   \n",
       "4                       Affinity Solutions\\n2.9     New York, NY   \n",
       "..                                          ...              ...   \n",
       "737                                    GSK\\n3.9    Cambridge, MA   \n",
       "738                             Eventbrite\\n4.4    Nashville, TN   \n",
       "739         Software Engineering Institute\\n2.6   Pittsburgh, PA   \n",
       "740                           Numeric, LLC\\n3.2    Allentown, PA   \n",
       "741           Riverside Research Institute\\n3.6  Beavercreek, OH   \n",
       "\n",
       "                  Headquarters                    Size  Founded  \\\n",
       "0                   Goleta, CA   501 to 1000 employees     1973   \n",
       "1                Baltimore, MD        10000+ employees     1984   \n",
       "2               Clearwater, FL   501 to 1000 employees     2010   \n",
       "3                 Richland, WA  1001 to 5000 employees     1965   \n",
       "4                 New York, NY     51 to 200 employees     1998   \n",
       "..                         ...                     ...      ...   \n",
       "737  Brentford, United Kingdom        10000+ employees     1830   \n",
       "738          San Francisco, CA  1001 to 5000 employees     2006   \n",
       "739             Pittsburgh, PA   501 to 1000 employees     1984   \n",
       "740            Chadds Ford, PA       1 to 50 employees       -1   \n",
       "741              Arlington, VA   501 to 1000 employees     1967   \n",
       "\n",
       "          Type of ownership  ... max_salary avg_salary  \\\n",
       "0         Company - Private  ...         91       72.0   \n",
       "1        Other Organization  ...        112       87.5   \n",
       "2         Company - Private  ...         90       85.0   \n",
       "3                Government  ...         97       76.5   \n",
       "4         Company - Private  ...        143      114.5   \n",
       "..                      ...  ...        ...        ...   \n",
       "737        Company - Public  ...        111       84.5   \n",
       "738        Company - Public  ...        133      102.5   \n",
       "739    College / University  ...         91       73.5   \n",
       "740       Company - Private  ...        160      127.5   \n",
       "741  Nonprofit Organization  ...        126       93.5   \n",
       "\n",
       "                               company_txt job_state  same_state  age  \\\n",
       "0                        Tecolote Research        NM           0   48   \n",
       "1    University of Maryland Medical System        MD           0   37   \n",
       "2                                  KnowBe4        FL           1   11   \n",
       "3                                     PNNL        WA           1   56   \n",
       "4                       Affinity Solutions        NY           1   23   \n",
       "..                                     ...       ...         ...  ...   \n",
       "737                                    GSK        MA           0  191   \n",
       "738                             Eventbrite        TN           0   15   \n",
       "739         Software Engineering Institute        PA           1   37   \n",
       "740                           Numeric, LLC        PA           0   -1   \n",
       "741           Riverside Research Institute        OH           0   54   \n",
       "\n",
       "     python_yn  R_yn  spark_yn aws_yn  \n",
       "0            1     0         0      0  \n",
       "1            1     0         0      0  \n",
       "2            1     0         1      0  \n",
       "3            1     0         0      0  \n",
       "4            1     0         0      0  \n",
       "..         ...   ...       ...    ...  \n",
       "737          0     0         0      1  \n",
       "738          1     0         1      1  \n",
       "739          0     0         0      0  \n",
       "740          0     0         0      0  \n",
       "741          1     0         0      0  \n",
       "\n",
       "[742 rows x 27 columns]"
      ],
      "text/html": "<div>\n<style scoped>\n    .dataframe tbody tr th:only-of-type {\n        vertical-align: middle;\n    }\n\n    .dataframe tbody tr th {\n        vertical-align: top;\n    }\n\n    .dataframe thead th {\n        text-align: right;\n    }\n</style>\n<table border=\"1\" class=\"dataframe\">\n  <thead>\n    <tr style=\"text-align: right;\">\n      <th></th>\n      <th>Job Title</th>\n      <th>Salary Estimate</th>\n      <th>Job Description</th>\n      <th>Rating</th>\n      <th>Company Name</th>\n      <th>Location</th>\n      <th>Headquarters</th>\n      <th>Size</th>\n      <th>Founded</th>\n      <th>Type of ownership</th>\n      <th>...</th>\n      <th>max_salary</th>\n      <th>avg_salary</th>\n      <th>company_txt</th>\n      <th>job_state</th>\n      <th>same_state</th>\n      <th>age</th>\n      <th>python_yn</th>\n      <th>R_yn</th>\n      <th>spark_yn</th>\n      <th>aws_yn</th>\n    </tr>\n  </thead>\n  <tbody>\n    <tr>\n      <th>0</th>\n      <td>Data Scientist</td>\n      <td>$53K-$91K (Glassdoor est.)</td>\n      <td>Data Scientist\\nLocation: Albuquerque, NM\\nEdu...</td>\n      <td>3.8</td>\n      <td>Tecolote Research\\n3.8</td>\n      <td>Albuquerque, NM</td>\n      <td>Goleta, CA</td>\n      <td>501 to 1000 employees</td>\n      <td>1973</td>\n      <td>Company - Private</td>\n      <td>...</td>\n      <td>91</td>\n      <td>72.0</td>\n      <td>Tecolote Research</td>\n      <td>NM</td>\n      <td>0</td>\n      <td>48</td>\n      <td>1</td>\n      <td>0</td>\n      <td>0</td>\n      <td>0</td>\n    </tr>\n    <tr>\n      <th>1</th>\n      <td>Healthcare Data Scientist</td>\n      <td>$63K-$112K (Glassdoor est.)</td>\n      <td>What You Will Do:\\n\\nI. General Summary\\n\\nThe...</td>\n      <td>3.4</td>\n      <td>University of Maryland Medical System\\n3.4</td>\n      <td>Linthicum, MD</td>\n      <td>Baltimore, MD</td>\n      <td>10000+ employees</td>\n      <td>1984</td>\n      <td>Other Organization</td>\n      <td>...</td>\n      <td>112</td>\n      <td>87.5</td>\n      <td>University of Maryland Medical System</td>\n      <td>MD</td>\n      <td>0</td>\n      <td>37</td>\n      <td>1</td>\n      <td>0</td>\n      <td>0</td>\n      <td>0</td>\n    </tr>\n    <tr>\n      <th>2</th>\n      <td>Data Scientist</td>\n      <td>$80K-$90K (Glassdoor est.)</td>\n      <td>KnowBe4, Inc. is a high growth information sec...</td>\n      <td>4.8</td>\n      <td>KnowBe4\\n4.8</td>\n      <td>Clearwater, FL</td>\n      <td>Clearwater, FL</td>\n      <td>501 to 1000 employees</td>\n      <td>2010</td>\n      <td>Company - Private</td>\n      <td>...</td>\n      <td>90</td>\n      <td>85.0</td>\n      <td>KnowBe4</td>\n      <td>FL</td>\n      <td>1</td>\n      <td>11</td>\n      <td>1</td>\n      <td>0</td>\n      <td>1</td>\n      <td>0</td>\n    </tr>\n    <tr>\n      <th>3</th>\n      <td>Data Scientist</td>\n      <td>$56K-$97K (Glassdoor est.)</td>\n      <td>*Organization and Job ID**\\nJob ID: 310709\\n\\n...</td>\n      <td>3.8</td>\n      <td>PNNL\\n3.8</td>\n      <td>Richland, WA</td>\n      <td>Richland, WA</td>\n      <td>1001 to 5000 employees</td>\n      <td>1965</td>\n      <td>Government</td>\n      <td>...</td>\n      <td>97</td>\n      <td>76.5</td>\n      <td>PNNL</td>\n      <td>WA</td>\n      <td>1</td>\n      <td>56</td>\n      <td>1</td>\n      <td>0</td>\n      <td>0</td>\n      <td>0</td>\n    </tr>\n    <tr>\n      <th>4</th>\n      <td>Data Scientist</td>\n      <td>$86K-$143K (Glassdoor est.)</td>\n      <td>Data Scientist\\nAffinity Solutions / Marketing...</td>\n      <td>2.9</td>\n      <td>Affinity Solutions\\n2.9</td>\n      <td>New York, NY</td>\n      <td>New York, NY</td>\n      <td>51 to 200 employees</td>\n      <td>1998</td>\n      <td>Company - Private</td>\n      <td>...</td>\n      <td>143</td>\n      <td>114.5</td>\n      <td>Affinity Solutions</td>\n      <td>NY</td>\n      <td>1</td>\n      <td>23</td>\n      <td>1</td>\n      <td>0</td>\n      <td>0</td>\n      <td>0</td>\n    </tr>\n    <tr>\n      <th>...</th>\n      <td>...</td>\n      <td>...</td>\n      <td>...</td>\n      <td>...</td>\n      <td>...</td>\n      <td>...</td>\n      <td>...</td>\n      <td>...</td>\n      <td>...</td>\n      <td>...</td>\n      <td>...</td>\n      <td>...</td>\n      <td>...</td>\n      <td>...</td>\n      <td>...</td>\n      <td>...</td>\n      <td>...</td>\n      <td>...</td>\n      <td>...</td>\n      <td>...</td>\n      <td>...</td>\n    </tr>\n    <tr>\n      <th>737</th>\n      <td>Sr Scientist, Immuno-Oncology - Oncology</td>\n      <td>$58K-$111K (Glassdoor est.)</td>\n      <td>Site Name: USA - Massachusetts - Cambridge\\nPo...</td>\n      <td>3.9</td>\n      <td>GSK\\n3.9</td>\n      <td>Cambridge, MA</td>\n      <td>Brentford, United Kingdom</td>\n      <td>10000+ employees</td>\n      <td>1830</td>\n      <td>Company - Public</td>\n      <td>...</td>\n      <td>111</td>\n      <td>84.5</td>\n      <td>GSK</td>\n      <td>MA</td>\n      <td>0</td>\n      <td>191</td>\n      <td>0</td>\n      <td>0</td>\n      <td>0</td>\n      <td>1</td>\n    </tr>\n    <tr>\n      <th>738</th>\n      <td>Senior Data Engineer</td>\n      <td>$72K-$133K (Glassdoor est.)</td>\n      <td>THE CHALLENGE\\nEventbrite has a world-class da...</td>\n      <td>4.4</td>\n      <td>Eventbrite\\n4.4</td>\n      <td>Nashville, TN</td>\n      <td>San Francisco, CA</td>\n      <td>1001 to 5000 employees</td>\n      <td>2006</td>\n      <td>Company - Public</td>\n      <td>...</td>\n      <td>133</td>\n      <td>102.5</td>\n      <td>Eventbrite</td>\n      <td>TN</td>\n      <td>0</td>\n      <td>15</td>\n      <td>1</td>\n      <td>0</td>\n      <td>1</td>\n      <td>1</td>\n    </tr>\n    <tr>\n      <th>739</th>\n      <td>Project Scientist - Auton Lab, Robotics Institute</td>\n      <td>$56K-$91K (Glassdoor est.)</td>\n      <td>The Auton Lab at Carnegie Mellon University is...</td>\n      <td>2.6</td>\n      <td>Software Engineering Institute\\n2.6</td>\n      <td>Pittsburgh, PA</td>\n      <td>Pittsburgh, PA</td>\n      <td>501 to 1000 employees</td>\n      <td>1984</td>\n      <td>College / University</td>\n      <td>...</td>\n      <td>91</td>\n      <td>73.5</td>\n      <td>Software Engineering Institute</td>\n      <td>PA</td>\n      <td>1</td>\n      <td>37</td>\n      <td>0</td>\n      <td>0</td>\n      <td>0</td>\n      <td>0</td>\n    </tr>\n    <tr>\n      <th>740</th>\n      <td>Data Science Manager</td>\n      <td>$95K-$160K (Glassdoor est.)</td>\n      <td>Data Science ManagerResponsibilities:\\n\\nOvers...</td>\n      <td>3.2</td>\n      <td>Numeric, LLC\\n3.2</td>\n      <td>Allentown, PA</td>\n      <td>Chadds Ford, PA</td>\n      <td>1 to 50 employees</td>\n      <td>-1</td>\n      <td>Company - Private</td>\n      <td>...</td>\n      <td>160</td>\n      <td>127.5</td>\n      <td>Numeric, LLC</td>\n      <td>PA</td>\n      <td>0</td>\n      <td>-1</td>\n      <td>0</td>\n      <td>0</td>\n      <td>0</td>\n      <td>0</td>\n    </tr>\n    <tr>\n      <th>741</th>\n      <td>Research Scientist – Security and Privacy</td>\n      <td>$61K-$126K (Glassdoor est.)</td>\n      <td>Returning Candidate? Log back in to the Career...</td>\n      <td>3.6</td>\n      <td>Riverside Research Institute\\n3.6</td>\n      <td>Beavercreek, OH</td>\n      <td>Arlington, VA</td>\n      <td>501 to 1000 employees</td>\n      <td>1967</td>\n      <td>Nonprofit Organization</td>\n      <td>...</td>\n      <td>126</td>\n      <td>93.5</td>\n      <td>Riverside Research Institute</td>\n      <td>OH</td>\n      <td>0</td>\n      <td>54</td>\n      <td>1</td>\n      <td>0</td>\n      <td>0</td>\n      <td>0</td>\n    </tr>\n  </tbody>\n</table>\n<p>742 rows × 27 columns</p>\n</div>"
     },
     "metadata": {},
     "execution_count": 61
    }
   ],
   "source": [
    "df=pd.read_csv('salary_data_cleaned.csv')\n",
    "df"
   ]
  },
  {
   "cell_type": "code",
   "execution_count": null,
   "metadata": {},
   "outputs": [],
   "source": []
  }
 ]
}